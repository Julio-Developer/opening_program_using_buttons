{
 "cells": [
  {
   "cell_type": "code",
   "execution_count": 37,
   "id": "8ba495a0",
   "metadata": {},
   "outputs": [],
   "source": [
    "import pyautogui as pg"
   ]
  },
  {
   "cell_type": "code",
   "execution_count": 38,
   "id": "4a9c863d",
   "metadata": {},
   "outputs": [],
   "source": [
    "options = pg.confirm('Click in the desigred button ',buttons = ['Excel','Word','Notepad'])"
   ]
  },
  {
   "cell_type": "code",
   "execution_count": 39,
   "id": "4f8bd71f",
   "metadata": {},
   "outputs": [],
   "source": [
    "# function for opened program\n",
    "def program(a):\n",
    "    pg.hotkey('win', 'r')\n",
    "    pg.sleep(1)\n",
    "    pg.write(options)\n",
    "    pg.sleep(1)\n",
    "    pg.press('enter')"
   ]
  },
  {
   "cell_type": "code",
   "execution_count": 40,
   "id": "657c00dd",
   "metadata": {},
   "outputs": [],
   "source": [
    "if options == 'Excel':\n",
    "    program(options)\n",
    "elif options == 'Word':\n",
    "    options = 'WINWORD'\n",
    "    program(options)\n",
    "elif options == 'Notepad':\n",
    "    program(options)"
   ]
  },
  {
   "cell_type": "code",
   "execution_count": null,
   "id": "8479b19a",
   "metadata": {},
   "outputs": [],
   "source": []
  },
  {
   "cell_type": "code",
   "execution_count": null,
   "id": "318b2b90",
   "metadata": {},
   "outputs": [],
   "source": []
  }
 ],
 "metadata": {
  "kernelspec": {
   "display_name": "Python 3 (ipykernel)",
   "language": "python",
   "name": "python3"
  },
  "language_info": {
   "codemirror_mode": {
    "name": "ipython",
    "version": 3
   },
   "file_extension": ".py",
   "mimetype": "text/x-python",
   "name": "python",
   "nbconvert_exporter": "python",
   "pygments_lexer": "ipython3",
   "version": "3.10.4"
  }
 },
 "nbformat": 4,
 "nbformat_minor": 5
}
